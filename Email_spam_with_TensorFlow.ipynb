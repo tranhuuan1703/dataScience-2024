{
  "nbformat": 4,
  "nbformat_minor": 0,
  "metadata": {
    "colab": {
      "provenance": [],
      "mount_file_id": "1hpUck__LELP48g9EV2bwAmvm0FBOB5kM",
      "authorship_tag": "ABX9TyMDa7Dfi3ax1BaesdndbtVU",
      "include_colab_link": true
    },
    "kernelspec": {
      "name": "python3",
      "display_name": "Python 3"
    },
    "language_info": {
      "name": "python"
    }
  },
  "cells": [
    {
      "cell_type": "markdown",
      "metadata": {
        "id": "view-in-github",
        "colab_type": "text"
      },
      "source": [
        "<a href=\"https://colab.research.google.com/github/tranhuuan1703/dataScience-2024/blob/main/Email_spam_with_TensorFlow.ipynb\" target=\"_parent\"><img src=\"https://colab.research.google.com/assets/colab-badge.svg\" alt=\"Open In Colab\"/></a>"
      ]
    },
    {
      "cell_type": "markdown",
      "source": [
        "# Import Libaries.\n",
        "\n",
        "<p>Import the libaries necessary to handle training and evaluation model.</p>"
      ],
      "metadata": {
        "id": "xJEKwZIwnnlH"
      }
    },
    {
      "cell_type": "code",
      "execution_count": 1,
      "metadata": {
        "colab": {
          "base_uri": "https://localhost:8080/"
        },
        "id": "6q6GAFo7ncVr",
        "outputId": "b4d7f6b8-7147-4be8-86b1-b5d1b45f0093"
      },
      "outputs": [
        {
          "output_type": "stream",
          "name": "stderr",
          "text": [
            "[nltk_data] Downloading package stopwords to /root/nltk_data...\n",
            "[nltk_data]   Unzipping corpora/stopwords.zip.\n"
          ]
        }
      ],
      "source": [
        "# the libaries to working data\n",
        "import pandas as pd\n",
        "import numpy as np\n",
        "\n",
        "# Visualization data\n",
        "import matplotlib.pyplot as plt\n",
        "from sklearn.metrics import accuracy_score, confusion_matrix, classification_report\n",
        "import seaborn as sns\n",
        "\n",
        "# preprocessing data\n",
        "import re\n",
        "import nltk\n",
        "from nltk.corpus import stopwords\n",
        "from tensorflow.keras.layers import TextVectorization\n",
        "\n",
        "# buildinng model\n",
        "from sklearn.model_selection import train_test_split\n",
        "from tensorflow.keras.models import Sequential\n",
        "from tensorflow.keras.layers import Embedding, LSTM, Dense, GlobalAveragePooling1D\n",
        "\n",
        "nltk.download('stopwords')\n",
        "stopword = set(stopwords.words('english'))"
      ]
    },
    {
      "cell_type": "markdown",
      "source": [
        "# OVerview data"
      ],
      "metadata": {
        "id": "L5ycMW3wpGg9"
      }
    },
    {
      "cell_type": "code",
      "source": [
        "!unzip '/content/drive/MyDrive/AI professional/tensorflow/smsspamcollection.zip' -d my_data"
      ],
      "metadata": {
        "colab": {
          "base_uri": "https://localhost:8080/"
        },
        "id": "eOPct4IWo-rf",
        "outputId": "5e7f9d82-94f9-4fcb-e385-e29c62ef95a5"
      },
      "execution_count": 2,
      "outputs": [
        {
          "output_type": "stream",
          "name": "stdout",
          "text": [
            "Archive:  /content/drive/MyDrive/AI professional/tensorflow/smsspamcollection.zip\n",
            "  inflating: my_data/SMSSpamCollection  \n",
            "  inflating: my_data/readme          \n"
          ]
        }
      ]
    },
    {
      "cell_type": "code",
      "source": [
        "path = '/content/my_data/SMSSpamCollection'\n",
        "\n",
        "df = pd.read_csv(path, sep='\\t', names=['label', 'text'])\n",
        "df.head()"
      ],
      "metadata": {
        "colab": {
          "base_uri": "https://localhost:8080/",
          "height": 206
        },
        "id": "MJQGtFNGpadE",
        "outputId": "029fc8a1-cede-4a34-9ead-68836b7db2c7"
      },
      "execution_count": 3,
      "outputs": [
        {
          "output_type": "execute_result",
          "data": {
            "text/plain": [
              "  label                                               text\n",
              "0   ham  Go until jurong point, crazy.. Available only ...\n",
              "1   ham                      Ok lar... Joking wif u oni...\n",
              "2  spam  Free entry in 2 a wkly comp to win FA Cup fina...\n",
              "3   ham  U dun say so early hor... U c already then say...\n",
              "4   ham  Nah I don't think he goes to usf, he lives aro..."
            ],
            "text/html": [
              "\n",
              "  <div id=\"df-87907159-f6c8-41da-a495-add864a0c7cf\" class=\"colab-df-container\">\n",
              "    <div>\n",
              "<style scoped>\n",
              "    .dataframe tbody tr th:only-of-type {\n",
              "        vertical-align: middle;\n",
              "    }\n",
              "\n",
              "    .dataframe tbody tr th {\n",
              "        vertical-align: top;\n",
              "    }\n",
              "\n",
              "    .dataframe thead th {\n",
              "        text-align: right;\n",
              "    }\n",
              "</style>\n",
              "<table border=\"1\" class=\"dataframe\">\n",
              "  <thead>\n",
              "    <tr style=\"text-align: right;\">\n",
              "      <th></th>\n",
              "      <th>label</th>\n",
              "      <th>text</th>\n",
              "    </tr>\n",
              "  </thead>\n",
              "  <tbody>\n",
              "    <tr>\n",
              "      <th>0</th>\n",
              "      <td>ham</td>\n",
              "      <td>Go until jurong point, crazy.. Available only ...</td>\n",
              "    </tr>\n",
              "    <tr>\n",
              "      <th>1</th>\n",
              "      <td>ham</td>\n",
              "      <td>Ok lar... Joking wif u oni...</td>\n",
              "    </tr>\n",
              "    <tr>\n",
              "      <th>2</th>\n",
              "      <td>spam</td>\n",
              "      <td>Free entry in 2 a wkly comp to win FA Cup fina...</td>\n",
              "    </tr>\n",
              "    <tr>\n",
              "      <th>3</th>\n",
              "      <td>ham</td>\n",
              "      <td>U dun say so early hor... U c already then say...</td>\n",
              "    </tr>\n",
              "    <tr>\n",
              "      <th>4</th>\n",
              "      <td>ham</td>\n",
              "      <td>Nah I don't think he goes to usf, he lives aro...</td>\n",
              "    </tr>\n",
              "  </tbody>\n",
              "</table>\n",
              "</div>\n",
              "    <div class=\"colab-df-buttons\">\n",
              "\n",
              "  <div class=\"colab-df-container\">\n",
              "    <button class=\"colab-df-convert\" onclick=\"convertToInteractive('df-87907159-f6c8-41da-a495-add864a0c7cf')\"\n",
              "            title=\"Convert this dataframe to an interactive table.\"\n",
              "            style=\"display:none;\">\n",
              "\n",
              "  <svg xmlns=\"http://www.w3.org/2000/svg\" height=\"24px\" viewBox=\"0 -960 960 960\">\n",
              "    <path d=\"M120-120v-720h720v720H120Zm60-500h600v-160H180v160Zm220 220h160v-160H400v160Zm0 220h160v-160H400v160ZM180-400h160v-160H180v160Zm440 0h160v-160H620v160ZM180-180h160v-160H180v160Zm440 0h160v-160H620v160Z\"/>\n",
              "  </svg>\n",
              "    </button>\n",
              "\n",
              "  <style>\n",
              "    .colab-df-container {\n",
              "      display:flex;\n",
              "      gap: 12px;\n",
              "    }\n",
              "\n",
              "    .colab-df-convert {\n",
              "      background-color: #E8F0FE;\n",
              "      border: none;\n",
              "      border-radius: 50%;\n",
              "      cursor: pointer;\n",
              "      display: none;\n",
              "      fill: #1967D2;\n",
              "      height: 32px;\n",
              "      padding: 0 0 0 0;\n",
              "      width: 32px;\n",
              "    }\n",
              "\n",
              "    .colab-df-convert:hover {\n",
              "      background-color: #E2EBFA;\n",
              "      box-shadow: 0px 1px 2px rgba(60, 64, 67, 0.3), 0px 1px 3px 1px rgba(60, 64, 67, 0.15);\n",
              "      fill: #174EA6;\n",
              "    }\n",
              "\n",
              "    .colab-df-buttons div {\n",
              "      margin-bottom: 4px;\n",
              "    }\n",
              "\n",
              "    [theme=dark] .colab-df-convert {\n",
              "      background-color: #3B4455;\n",
              "      fill: #D2E3FC;\n",
              "    }\n",
              "\n",
              "    [theme=dark] .colab-df-convert:hover {\n",
              "      background-color: #434B5C;\n",
              "      box-shadow: 0px 1px 3px 1px rgba(0, 0, 0, 0.15);\n",
              "      filter: drop-shadow(0px 1px 2px rgba(0, 0, 0, 0.3));\n",
              "      fill: #FFFFFF;\n",
              "    }\n",
              "  </style>\n",
              "\n",
              "    <script>\n",
              "      const buttonEl =\n",
              "        document.querySelector('#df-87907159-f6c8-41da-a495-add864a0c7cf button.colab-df-convert');\n",
              "      buttonEl.style.display =\n",
              "        google.colab.kernel.accessAllowed ? 'block' : 'none';\n",
              "\n",
              "      async function convertToInteractive(key) {\n",
              "        const element = document.querySelector('#df-87907159-f6c8-41da-a495-add864a0c7cf');\n",
              "        const dataTable =\n",
              "          await google.colab.kernel.invokeFunction('convertToInteractive',\n",
              "                                                    [key], {});\n",
              "        if (!dataTable) return;\n",
              "\n",
              "        const docLinkHtml = 'Like what you see? Visit the ' +\n",
              "          '<a target=\"_blank\" href=https://colab.research.google.com/notebooks/data_table.ipynb>data table notebook</a>'\n",
              "          + ' to learn more about interactive tables.';\n",
              "        element.innerHTML = '';\n",
              "        dataTable['output_type'] = 'display_data';\n",
              "        await google.colab.output.renderOutput(dataTable, element);\n",
              "        const docLink = document.createElement('div');\n",
              "        docLink.innerHTML = docLinkHtml;\n",
              "        element.appendChild(docLink);\n",
              "      }\n",
              "    </script>\n",
              "  </div>\n",
              "\n",
              "\n",
              "<div id=\"df-7bdcf496-7eda-44c1-a524-ea03b5b4c531\">\n",
              "  <button class=\"colab-df-quickchart\" onclick=\"quickchart('df-7bdcf496-7eda-44c1-a524-ea03b5b4c531')\"\n",
              "            title=\"Suggest charts\"\n",
              "            style=\"display:none;\">\n",
              "\n",
              "<svg xmlns=\"http://www.w3.org/2000/svg\" height=\"24px\"viewBox=\"0 0 24 24\"\n",
              "     width=\"24px\">\n",
              "    <g>\n",
              "        <path d=\"M19 3H5c-1.1 0-2 .9-2 2v14c0 1.1.9 2 2 2h14c1.1 0 2-.9 2-2V5c0-1.1-.9-2-2-2zM9 17H7v-7h2v7zm4 0h-2V7h2v10zm4 0h-2v-4h2v4z\"/>\n",
              "    </g>\n",
              "</svg>\n",
              "  </button>\n",
              "\n",
              "<style>\n",
              "  .colab-df-quickchart {\n",
              "      --bg-color: #E8F0FE;\n",
              "      --fill-color: #1967D2;\n",
              "      --hover-bg-color: #E2EBFA;\n",
              "      --hover-fill-color: #174EA6;\n",
              "      --disabled-fill-color: #AAA;\n",
              "      --disabled-bg-color: #DDD;\n",
              "  }\n",
              "\n",
              "  [theme=dark] .colab-df-quickchart {\n",
              "      --bg-color: #3B4455;\n",
              "      --fill-color: #D2E3FC;\n",
              "      --hover-bg-color: #434B5C;\n",
              "      --hover-fill-color: #FFFFFF;\n",
              "      --disabled-bg-color: #3B4455;\n",
              "      --disabled-fill-color: #666;\n",
              "  }\n",
              "\n",
              "  .colab-df-quickchart {\n",
              "    background-color: var(--bg-color);\n",
              "    border: none;\n",
              "    border-radius: 50%;\n",
              "    cursor: pointer;\n",
              "    display: none;\n",
              "    fill: var(--fill-color);\n",
              "    height: 32px;\n",
              "    padding: 0;\n",
              "    width: 32px;\n",
              "  }\n",
              "\n",
              "  .colab-df-quickchart:hover {\n",
              "    background-color: var(--hover-bg-color);\n",
              "    box-shadow: 0 1px 2px rgba(60, 64, 67, 0.3), 0 1px 3px 1px rgba(60, 64, 67, 0.15);\n",
              "    fill: var(--button-hover-fill-color);\n",
              "  }\n",
              "\n",
              "  .colab-df-quickchart-complete:disabled,\n",
              "  .colab-df-quickchart-complete:disabled:hover {\n",
              "    background-color: var(--disabled-bg-color);\n",
              "    fill: var(--disabled-fill-color);\n",
              "    box-shadow: none;\n",
              "  }\n",
              "\n",
              "  .colab-df-spinner {\n",
              "    border: 2px solid var(--fill-color);\n",
              "    border-color: transparent;\n",
              "    border-bottom-color: var(--fill-color);\n",
              "    animation:\n",
              "      spin 1s steps(1) infinite;\n",
              "  }\n",
              "\n",
              "  @keyframes spin {\n",
              "    0% {\n",
              "      border-color: transparent;\n",
              "      border-bottom-color: var(--fill-color);\n",
              "      border-left-color: var(--fill-color);\n",
              "    }\n",
              "    20% {\n",
              "      border-color: transparent;\n",
              "      border-left-color: var(--fill-color);\n",
              "      border-top-color: var(--fill-color);\n",
              "    }\n",
              "    30% {\n",
              "      border-color: transparent;\n",
              "      border-left-color: var(--fill-color);\n",
              "      border-top-color: var(--fill-color);\n",
              "      border-right-color: var(--fill-color);\n",
              "    }\n",
              "    40% {\n",
              "      border-color: transparent;\n",
              "      border-right-color: var(--fill-color);\n",
              "      border-top-color: var(--fill-color);\n",
              "    }\n",
              "    60% {\n",
              "      border-color: transparent;\n",
              "      border-right-color: var(--fill-color);\n",
              "    }\n",
              "    80% {\n",
              "      border-color: transparent;\n",
              "      border-right-color: var(--fill-color);\n",
              "      border-bottom-color: var(--fill-color);\n",
              "    }\n",
              "    90% {\n",
              "      border-color: transparent;\n",
              "      border-bottom-color: var(--fill-color);\n",
              "    }\n",
              "  }\n",
              "</style>\n",
              "\n",
              "  <script>\n",
              "    async function quickchart(key) {\n",
              "      const quickchartButtonEl =\n",
              "        document.querySelector('#' + key + ' button');\n",
              "      quickchartButtonEl.disabled = true;  // To prevent multiple clicks.\n",
              "      quickchartButtonEl.classList.add('colab-df-spinner');\n",
              "      try {\n",
              "        const charts = await google.colab.kernel.invokeFunction(\n",
              "            'suggestCharts', [key], {});\n",
              "      } catch (error) {\n",
              "        console.error('Error during call to suggestCharts:', error);\n",
              "      }\n",
              "      quickchartButtonEl.classList.remove('colab-df-spinner');\n",
              "      quickchartButtonEl.classList.add('colab-df-quickchart-complete');\n",
              "    }\n",
              "    (() => {\n",
              "      let quickchartButtonEl =\n",
              "        document.querySelector('#df-7bdcf496-7eda-44c1-a524-ea03b5b4c531 button');\n",
              "      quickchartButtonEl.style.display =\n",
              "        google.colab.kernel.accessAllowed ? 'block' : 'none';\n",
              "    })();\n",
              "  </script>\n",
              "</div>\n",
              "\n",
              "    </div>\n",
              "  </div>\n"
            ],
            "application/vnd.google.colaboratory.intrinsic+json": {
              "type": "dataframe",
              "variable_name": "df",
              "summary": "{\n  \"name\": \"df\",\n  \"rows\": 5572,\n  \"fields\": [\n    {\n      \"column\": \"label\",\n      \"properties\": {\n        \"dtype\": \"category\",\n        \"num_unique_values\": 2,\n        \"samples\": [\n          \"spam\",\n          \"ham\"\n        ],\n        \"semantic_type\": \"\",\n        \"description\": \"\"\n      }\n    },\n    {\n      \"column\": \"text\",\n      \"properties\": {\n        \"dtype\": \"string\",\n        \"num_unique_values\": 5169,\n        \"samples\": [\n          \"K, makes sense, btw carlos is being difficult so you guys are gonna smoke while I go pick up the second batch and get gas\",\n          \"URGENT! Your mobile No *********** WON a \\u00a32,000 Bonus Caller Prize on 02/06/03! This is the 2nd attempt to reach YOU! Call 09066362220 ASAP! BOX97N7QP, 150ppm\"\n        ],\n        \"semantic_type\": \"\",\n        \"description\": \"\"\n      }\n    }\n  ]\n}"
            }
          },
          "metadata": {},
          "execution_count": 3
        }
      ]
    },
    {
      "cell_type": "code",
      "source": [
        "df['label'] = df['label'].map({'ham': 0, 'spam': 1})"
      ],
      "metadata": {
        "id": "Ig877o4ipgZX"
      },
      "execution_count": 4,
      "outputs": []
    },
    {
      "cell_type": "code",
      "source": [
        "df.info()"
      ],
      "metadata": {
        "colab": {
          "base_uri": "https://localhost:8080/"
        },
        "id": "CElUwNr5psmR",
        "outputId": "cfed9315-f979-40ee-d8e6-2dbf49867c08"
      },
      "execution_count": 5,
      "outputs": [
        {
          "output_type": "stream",
          "name": "stdout",
          "text": [
            "<class 'pandas.core.frame.DataFrame'>\n",
            "RangeIndex: 5572 entries, 0 to 5571\n",
            "Data columns (total 2 columns):\n",
            " #   Column  Non-Null Count  Dtype \n",
            "---  ------  --------------  ----- \n",
            " 0   label   5572 non-null   int64 \n",
            " 1   text    5572 non-null   object\n",
            "dtypes: int64(1), object(1)\n",
            "memory usage: 87.2+ KB\n"
          ]
        }
      ]
    },
    {
      "cell_type": "markdown",
      "source": [
        "# Text Presentiation"
      ],
      "metadata": {
        "id": "nmYA1J_-pvcW"
      }
    },
    {
      "cell_type": "code",
      "source": [
        "def sentence_clean(sentence):\n",
        "\n",
        "  sentence = sentence.lower()\n",
        "  sentence = re.sub(r'[^a-zA-Z0-9]', ' ', sentence)\n",
        "  sentence = re.sub(r'\\s+', ' ', sentence)\n",
        "\n",
        "  clean_text = []\n",
        "  for word in sentence.split(\" \"):\n",
        "    if word not in stopword:\n",
        "      clean_text.append(word)\n",
        "\n",
        "  return ' '.join(clean_text)\n",
        "\n",
        "vectorize_layer = TextVectorization(\n",
        "    max_tokens=20000,\n",
        "    output_sequence_length=1000\n",
        ")\n"
      ],
      "metadata": {
        "id": "5YHpvlLNpth-"
      },
      "execution_count": 6,
      "outputs": []
    },
    {
      "cell_type": "code",
      "source": [
        "# define layer for embedding\n",
        "embedding_layer = Embedding(\n",
        "    input_dim=10000,\n",
        "    output_dim=16,\n",
        "\n",
        ")"
      ],
      "metadata": {
        "id": "4KAdfU_jqbxs"
      },
      "execution_count": 7,
      "outputs": []
    },
    {
      "cell_type": "code",
      "source": [
        "# # test case\n",
        "# text = df['text'][11]\n",
        "# text_vector = vectorize_layer(text)\n",
        "# print(text_vector.shape)\n",
        "\n",
        "# embedding_vector = embedding_layer(text_vector)\n",
        "# print(embedding_vector.shape)"
      ],
      "metadata": {
        "id": "8Eb54HuIuadq"
      },
      "execution_count": 8,
      "outputs": []
    },
    {
      "cell_type": "markdown",
      "source": [
        "# train test split data"
      ],
      "metadata": {
        "id": "wwULGUlIq8Os"
      }
    },
    {
      "cell_type": "code",
      "source": [
        "import tensorflow as tf"
      ],
      "metadata": {
        "id": "hypP25eJrGlb"
      },
      "execution_count": 9,
      "outputs": []
    },
    {
      "cell_type": "code",
      "source": [
        "X_train, X_test, y_train, y_test = train_test_split(df['text'], df['label'], test_size=0.2, random_state=42)"
      ],
      "metadata": {
        "id": "b49UtaJnq15p"
      },
      "execution_count": 10,
      "outputs": []
    },
    {
      "cell_type": "code",
      "source": [
        "train_ds = tf.data.Dataset.from_tensor_slices((X_train, y_train)).cache().prefetch(tf.data.AUTOTUNE).batch(32)\n",
        "test_ds = tf.data.Dataset.from_tensor_slices((X_test, y_test)).cache().prefetch(tf.data.AUTOTUNE).batch(32)"
      ],
      "metadata": {
        "id": "60g12DbIvi_G"
      },
      "execution_count": 11,
      "outputs": []
    },
    {
      "cell_type": "code",
      "source": [
        "# dataset = tf.data.Dataset.from_tensor_slices((df['text'], df['label'])).cache().prefetch(tf.data.AUTOTUNE).batch(32)"
      ],
      "metadata": {
        "id": "yiheGaaav46v"
      },
      "execution_count": 12,
      "outputs": []
    },
    {
      "cell_type": "code",
      "source": [
        "vocab_size = 20000\n",
        "embedding_dim = 16\n",
        "model = Sequential([\n",
        "  vectorize_layer,\n",
        "  Embedding(vocab_size, embedding_dim, name=\"embedding\"),\n",
        "  GlobalAveragePooling1D(),\n",
        "  Dense(16, activation='relu'),\n",
        "  Dense(1)\n",
        "])"
      ],
      "metadata": {
        "id": "OynDOZzTwFXk"
      },
      "execution_count": 13,
      "outputs": []
    },
    {
      "cell_type": "code",
      "source": [
        "text_ds = df['text'].map(sentence_clean)\n",
        "vectorize_layer.adapt(text_ds)"
      ],
      "metadata": {
        "id": "aUuKBsWcxqy4"
      },
      "execution_count": 14,
      "outputs": []
    },
    {
      "cell_type": "code",
      "source": [
        "model.compile(loss='binary_crossentropy', optimizer='adam', metrics=['accuracy'])\n",
        "\n",
        "history_model = model.fit(train_ds, epochs=100, validation_data=test_ds)"
      ],
      "metadata": {
        "colab": {
          "base_uri": "https://localhost:8080/"
        },
        "id": "GRRSv9SLvoGQ",
        "outputId": "696f69fb-89f5-43f8-a4bd-71b73a7bfb3d"
      },
      "execution_count": 15,
      "outputs": [
        {
          "output_type": "stream",
          "name": "stdout",
          "text": [
            "Epoch 1/100\n",
            "140/140 [==============================] - 7s 24ms/step - loss: 0.4072 - accuracy: 0.8658 - val_loss: 0.3929 - val_accuracy: 0.8664\n",
            "Epoch 2/100\n",
            "140/140 [==============================] - 3s 19ms/step - loss: 0.3934 - accuracy: 0.8658 - val_loss: 0.3913 - val_accuracy: 0.8664\n",
            "Epoch 3/100\n",
            "140/140 [==============================] - 2s 14ms/step - loss: 0.3917 - accuracy: 0.8658 - val_loss: 0.3895 - val_accuracy: 0.8664\n",
            "Epoch 4/100\n",
            "140/140 [==============================] - 2s 13ms/step - loss: 0.3895 - accuracy: 0.8658 - val_loss: 0.3870 - val_accuracy: 0.8664\n",
            "Epoch 5/100\n",
            "140/140 [==============================] - 2s 15ms/step - loss: 0.3863 - accuracy: 0.8658 - val_loss: 0.3834 - val_accuracy: 0.8664\n",
            "Epoch 6/100\n",
            "140/140 [==============================] - 3s 22ms/step - loss: 0.3809 - accuracy: 0.8658 - val_loss: 0.3766 - val_accuracy: 0.8664\n",
            "Epoch 7/100\n",
            "140/140 [==============================] - 2s 17ms/step - loss: 0.3678 - accuracy: 0.8658 - val_loss: 0.3622 - val_accuracy: 0.8664\n",
            "Epoch 8/100\n",
            "140/140 [==============================] - 2s 16ms/step - loss: 0.3413 - accuracy: 0.8658 - val_loss: 0.3273 - val_accuracy: 0.8664\n",
            "Epoch 9/100\n",
            "140/140 [==============================] - 2s 15ms/step - loss: 0.2958 - accuracy: 0.8658 - val_loss: 0.2800 - val_accuracy: 0.8664\n",
            "Epoch 10/100\n",
            "140/140 [==============================] - 2s 15ms/step - loss: 0.2476 - accuracy: 0.8656 - val_loss: 0.2304 - val_accuracy: 0.8664\n",
            "Epoch 11/100\n",
            "140/140 [==============================] - 1s 9ms/step - loss: 0.2083 - accuracy: 0.8703 - val_loss: 0.1941 - val_accuracy: 0.8780\n",
            "Epoch 12/100\n",
            "140/140 [==============================] - 1s 9ms/step - loss: 0.3228 - accuracy: 0.7812 - val_loss: 0.1981 - val_accuracy: 0.8664\n",
            "Epoch 13/100\n",
            "140/140 [==============================] - 2s 13ms/step - loss: 0.1679 - accuracy: 0.8746 - val_loss: 0.1802 - val_accuracy: 0.8825\n",
            "Epoch 14/100\n",
            "140/140 [==============================] - 2s 12ms/step - loss: 0.1511 - accuracy: 0.9031 - val_loss: 0.1731 - val_accuracy: 0.9103\n",
            "Epoch 15/100\n",
            "140/140 [==============================] - 2s 12ms/step - loss: 0.1369 - accuracy: 0.9219 - val_loss: 0.1607 - val_accuracy: 0.9291\n",
            "Epoch 16/100\n",
            "140/140 [==============================] - 1s 8ms/step - loss: 0.1235 - accuracy: 0.9361 - val_loss: 0.1484 - val_accuracy: 0.9453\n",
            "Epoch 17/100\n",
            "140/140 [==============================] - 1s 8ms/step - loss: 0.1106 - accuracy: 0.9504 - val_loss: 0.1363 - val_accuracy: 0.9552\n",
            "Epoch 18/100\n",
            "140/140 [==============================] - 1s 8ms/step - loss: 0.0980 - accuracy: 0.9601 - val_loss: 0.1246 - val_accuracy: 0.9587\n",
            "Epoch 19/100\n",
            "140/140 [==============================] - 1s 8ms/step - loss: 0.0861 - accuracy: 0.9681 - val_loss: 0.1135 - val_accuracy: 0.9641\n",
            "Epoch 20/100\n",
            "140/140 [==============================] - 1s 9ms/step - loss: 0.0773 - accuracy: 0.9722 - val_loss: 0.1044 - val_accuracy: 0.9659\n",
            "Epoch 21/100\n",
            "140/140 [==============================] - 1s 9ms/step - loss: 0.0701 - accuracy: 0.9751 - val_loss: 0.0979 - val_accuracy: 0.9713\n",
            "Epoch 22/100\n",
            "140/140 [==============================] - 1s 8ms/step - loss: 0.0618 - accuracy: 0.9778 - val_loss: 0.0937 - val_accuracy: 0.9740\n",
            "Epoch 23/100\n",
            "140/140 [==============================] - 1s 9ms/step - loss: 0.0595 - accuracy: 0.9803 - val_loss: 0.0971 - val_accuracy: 0.9776\n",
            "Epoch 24/100\n",
            "140/140 [==============================] - 2s 12ms/step - loss: 0.0559 - accuracy: 0.9807 - val_loss: 0.0936 - val_accuracy: 0.9785\n",
            "Epoch 25/100\n",
            "140/140 [==============================] - 2s 13ms/step - loss: 0.0555 - accuracy: 0.9816 - val_loss: 0.0905 - val_accuracy: 0.9803\n",
            "Epoch 26/100\n",
            "140/140 [==============================] - 1s 8ms/step - loss: 0.0497 - accuracy: 0.9825 - val_loss: 0.0880 - val_accuracy: 0.9821\n",
            "Epoch 27/100\n",
            "140/140 [==============================] - 1s 8ms/step - loss: 0.0443 - accuracy: 0.9843 - val_loss: 0.0859 - val_accuracy: 0.9857\n",
            "Epoch 28/100\n",
            "140/140 [==============================] - 1s 8ms/step - loss: 0.0415 - accuracy: 0.9845 - val_loss: 0.0850 - val_accuracy: 0.9865\n",
            "Epoch 29/100\n",
            "140/140 [==============================] - 1s 9ms/step - loss: 0.1245 - accuracy: 0.9430 - val_loss: 0.0870 - val_accuracy: 0.9830\n",
            "Epoch 30/100\n",
            "140/140 [==============================] - 1s 8ms/step - loss: 0.0372 - accuracy: 0.9854 - val_loss: 0.0846 - val_accuracy: 0.9865\n",
            "Epoch 31/100\n",
            "140/140 [==============================] - 1s 8ms/step - loss: 0.0358 - accuracy: 0.9856 - val_loss: 0.0830 - val_accuracy: 0.9865\n",
            "Epoch 32/100\n",
            "140/140 [==============================] - 1s 9ms/step - loss: 0.0354 - accuracy: 0.9870 - val_loss: 0.0820 - val_accuracy: 0.9865\n",
            "Epoch 33/100\n",
            "140/140 [==============================] - 1s 8ms/step - loss: 0.0347 - accuracy: 0.9870 - val_loss: 0.0811 - val_accuracy: 0.9874\n",
            "Epoch 34/100\n",
            "140/140 [==============================] - 1s 10ms/step - loss: 0.0335 - accuracy: 0.9877 - val_loss: 0.0803 - val_accuracy: 0.9883\n",
            "Epoch 35/100\n",
            "140/140 [==============================] - 2s 13ms/step - loss: 0.0338 - accuracy: 0.9879 - val_loss: 0.0801 - val_accuracy: 0.9883\n",
            "Epoch 36/100\n",
            "140/140 [==============================] - 2s 13ms/step - loss: 0.0300 - accuracy: 0.9883 - val_loss: 0.0817 - val_accuracy: 0.9883\n",
            "Epoch 37/100\n",
            "140/140 [==============================] - 1s 9ms/step - loss: 0.0344 - accuracy: 0.9877 - val_loss: 0.0878 - val_accuracy: 0.9883\n",
            "Epoch 38/100\n",
            "140/140 [==============================] - 1s 9ms/step - loss: 0.0334 - accuracy: 0.9877 - val_loss: 0.0872 - val_accuracy: 0.9883\n",
            "Epoch 39/100\n",
            "140/140 [==============================] - 1s 9ms/step - loss: 0.0280 - accuracy: 0.9888 - val_loss: 0.0862 - val_accuracy: 0.9883\n",
            "Epoch 40/100\n",
            "140/140 [==============================] - 1s 8ms/step - loss: 0.0279 - accuracy: 0.9888 - val_loss: 0.0854 - val_accuracy: 0.9883\n",
            "Epoch 41/100\n",
            "140/140 [==============================] - 1s 8ms/step - loss: 0.0330 - accuracy: 0.9883 - val_loss: 0.0851 - val_accuracy: 0.9883\n",
            "Epoch 42/100\n",
            "140/140 [==============================] - 1s 8ms/step - loss: 0.0265 - accuracy: 0.9899 - val_loss: 0.0844 - val_accuracy: 0.9883\n",
            "Epoch 43/100\n",
            "140/140 [==============================] - 1s 9ms/step - loss: 0.0253 - accuracy: 0.9904 - val_loss: 0.0837 - val_accuracy: 0.9883\n",
            "Epoch 44/100\n",
            "140/140 [==============================] - 1s 9ms/step - loss: 0.0285 - accuracy: 0.9895 - val_loss: 0.0833 - val_accuracy: 0.9883\n",
            "Epoch 45/100\n",
            "140/140 [==============================] - 2s 12ms/step - loss: 0.0673 - accuracy: 0.9753 - val_loss: 0.0851 - val_accuracy: 0.9883\n",
            "Epoch 46/100\n",
            "140/140 [==============================] - 2s 12ms/step - loss: 0.0229 - accuracy: 0.9915 - val_loss: 0.0837 - val_accuracy: 0.9883\n",
            "Epoch 47/100\n",
            "140/140 [==============================] - 2s 12ms/step - loss: 0.0222 - accuracy: 0.9921 - val_loss: 0.0827 - val_accuracy: 0.9883\n",
            "Epoch 48/100\n",
            "140/140 [==============================] - 1s 8ms/step - loss: 0.0223 - accuracy: 0.9919 - val_loss: 0.0820 - val_accuracy: 0.9883\n",
            "Epoch 49/100\n",
            "140/140 [==============================] - 1s 8ms/step - loss: 0.0215 - accuracy: 0.9926 - val_loss: 0.0815 - val_accuracy: 0.9883\n",
            "Epoch 50/100\n",
            "140/140 [==============================] - 1s 8ms/step - loss: 0.0203 - accuracy: 0.9926 - val_loss: 0.0812 - val_accuracy: 0.9883\n",
            "Epoch 51/100\n",
            "140/140 [==============================] - 1s 8ms/step - loss: 0.0227 - accuracy: 0.9917 - val_loss: 0.0805 - val_accuracy: 0.9883\n",
            "Epoch 52/100\n",
            "140/140 [==============================] - 1s 8ms/step - loss: 0.0192 - accuracy: 0.9928 - val_loss: 0.0800 - val_accuracy: 0.9883\n",
            "Epoch 53/100\n",
            "140/140 [==============================] - 1s 9ms/step - loss: 0.0184 - accuracy: 0.9928 - val_loss: 0.0792 - val_accuracy: 0.9883\n",
            "Epoch 54/100\n",
            "140/140 [==============================] - 1s 8ms/step - loss: 0.0177 - accuracy: 0.9933 - val_loss: 0.0786 - val_accuracy: 0.9883\n",
            "Epoch 55/100\n",
            "140/140 [==============================] - 1s 9ms/step - loss: 0.0172 - accuracy: 0.9935 - val_loss: 0.0780 - val_accuracy: 0.9883\n",
            "Epoch 56/100\n",
            "140/140 [==============================] - 2s 12ms/step - loss: 0.0165 - accuracy: 0.9944 - val_loss: 0.0777 - val_accuracy: 0.9883\n",
            "Epoch 57/100\n",
            "140/140 [==============================] - 2s 12ms/step - loss: 0.0168 - accuracy: 0.9944 - val_loss: 0.0777 - val_accuracy: 0.9883\n",
            "Epoch 58/100\n",
            "140/140 [==============================] - 2s 12ms/step - loss: 0.0156 - accuracy: 0.9944 - val_loss: 0.0807 - val_accuracy: 0.9883\n",
            "Epoch 59/100\n",
            "140/140 [==============================] - 1s 8ms/step - loss: 0.0148 - accuracy: 0.9946 - val_loss: 0.1080 - val_accuracy: 0.9883\n",
            "Epoch 60/100\n",
            "140/140 [==============================] - 1s 8ms/step - loss: 0.0149 - accuracy: 0.9946 - val_loss: 0.1075 - val_accuracy: 0.9883\n",
            "Epoch 61/100\n",
            "140/140 [==============================] - 1s 8ms/step - loss: 0.0139 - accuracy: 0.9946 - val_loss: 0.1076 - val_accuracy: 0.9883\n",
            "Epoch 62/100\n",
            "140/140 [==============================] - 1s 9ms/step - loss: 0.0137 - accuracy: 0.9948 - val_loss: 0.1070 - val_accuracy: 0.9883\n",
            "Epoch 63/100\n",
            "140/140 [==============================] - 1s 8ms/step - loss: 0.0131 - accuracy: 0.9953 - val_loss: 0.1067 - val_accuracy: 0.9883\n",
            "Epoch 64/100\n",
            "140/140 [==============================] - 1s 8ms/step - loss: 0.0128 - accuracy: 0.9955 - val_loss: 0.1065 - val_accuracy: 0.9883\n",
            "Epoch 65/100\n",
            "140/140 [==============================] - 1s 8ms/step - loss: 0.0122 - accuracy: 0.9955 - val_loss: 0.1061 - val_accuracy: 0.9892\n",
            "Epoch 66/100\n",
            "140/140 [==============================] - 1s 8ms/step - loss: 0.0118 - accuracy: 0.9955 - val_loss: 0.1070 - val_accuracy: 0.9892\n",
            "Epoch 67/100\n",
            "140/140 [==============================] - 2s 11ms/step - loss: 0.0115 - accuracy: 0.9955 - val_loss: 0.1159 - val_accuracy: 0.9892\n",
            "Epoch 68/100\n",
            "140/140 [==============================] - 2s 12ms/step - loss: 0.0113 - accuracy: 0.9957 - val_loss: 0.1156 - val_accuracy: 0.9892\n",
            "Epoch 69/100\n",
            "140/140 [==============================] - 1s 9ms/step - loss: 0.0110 - accuracy: 0.9957 - val_loss: 0.1154 - val_accuracy: 0.9892\n",
            "Epoch 70/100\n",
            "140/140 [==============================] - 1s 8ms/step - loss: 0.0104 - accuracy: 0.9962 - val_loss: 0.1152 - val_accuracy: 0.9892\n",
            "Epoch 71/100\n",
            "140/140 [==============================] - 1s 8ms/step - loss: 0.0101 - accuracy: 0.9966 - val_loss: 0.1150 - val_accuracy: 0.9892\n",
            "Epoch 72/100\n",
            "140/140 [==============================] - 1s 8ms/step - loss: 0.0094 - accuracy: 0.9966 - val_loss: 0.0961 - val_accuracy: 0.9892\n",
            "Epoch 73/100\n",
            "140/140 [==============================] - 1s 8ms/step - loss: 0.0092 - accuracy: 0.9966 - val_loss: 0.1053 - val_accuracy: 0.9892\n",
            "Epoch 74/100\n",
            "140/140 [==============================] - 1s 9ms/step - loss: 0.0091 - accuracy: 0.9969 - val_loss: 0.1054 - val_accuracy: 0.9892\n",
            "Epoch 75/100\n",
            "140/140 [==============================] - 1s 8ms/step - loss: 0.0086 - accuracy: 0.9969 - val_loss: 0.0856 - val_accuracy: 0.9901\n",
            "Epoch 76/100\n",
            "140/140 [==============================] - 1s 10ms/step - loss: 0.0083 - accuracy: 0.9966 - val_loss: 0.0843 - val_accuracy: 0.9901\n",
            "Epoch 77/100\n",
            "140/140 [==============================] - 2s 12ms/step - loss: 0.0081 - accuracy: 0.9971 - val_loss: 0.0963 - val_accuracy: 0.9901\n",
            "Epoch 78/100\n",
            "140/140 [==============================] - 1s 9ms/step - loss: 0.0079 - accuracy: 0.9971 - val_loss: 0.0846 - val_accuracy: 0.9901\n",
            "Epoch 79/100\n",
            "140/140 [==============================] - 2s 12ms/step - loss: 0.0077 - accuracy: 0.9971 - val_loss: 0.1049 - val_accuracy: 0.9901\n",
            "Epoch 80/100\n",
            "140/140 [==============================] - 1s 8ms/step - loss: 0.0077 - accuracy: 0.9971 - val_loss: 0.0862 - val_accuracy: 0.9901\n",
            "Epoch 81/100\n",
            "140/140 [==============================] - 1s 8ms/step - loss: 0.0073 - accuracy: 0.9971 - val_loss: 0.0834 - val_accuracy: 0.9901\n",
            "Epoch 82/100\n",
            "140/140 [==============================] - 1s 8ms/step - loss: 0.0070 - accuracy: 0.9973 - val_loss: 0.0850 - val_accuracy: 0.9901\n",
            "Epoch 83/100\n",
            "140/140 [==============================] - 1s 8ms/step - loss: 0.0071 - accuracy: 0.9975 - val_loss: 0.0844 - val_accuracy: 0.9901\n",
            "Epoch 84/100\n",
            "140/140 [==============================] - 1s 8ms/step - loss: 0.0066 - accuracy: 0.9975 - val_loss: 0.1123 - val_accuracy: 0.9901\n",
            "Epoch 85/100\n",
            "140/140 [==============================] - 1s 7ms/step - loss: 0.0065 - accuracy: 0.9982 - val_loss: 0.1126 - val_accuracy: 0.9901\n",
            "Epoch 86/100\n",
            "140/140 [==============================] - 2s 11ms/step - loss: 0.0063 - accuracy: 0.9982 - val_loss: 0.1118 - val_accuracy: 0.9901\n",
            "Epoch 87/100\n",
            "140/140 [==============================] - 2s 12ms/step - loss: 0.0062 - accuracy: 0.9980 - val_loss: 0.1122 - val_accuracy: 0.9901\n",
            "Epoch 88/100\n",
            "140/140 [==============================] - 2s 13ms/step - loss: 0.0059 - accuracy: 0.9984 - val_loss: 0.1113 - val_accuracy: 0.9901\n",
            "Epoch 89/100\n",
            "140/140 [==============================] - 1s 8ms/step - loss: 0.0157 - accuracy: 0.9973 - val_loss: 0.1111 - val_accuracy: 0.9901\n",
            "Epoch 90/100\n",
            "140/140 [==============================] - 1s 9ms/step - loss: 0.0055 - accuracy: 0.9982 - val_loss: 0.1121 - val_accuracy: 0.9901\n",
            "Epoch 91/100\n",
            "140/140 [==============================] - 1s 8ms/step - loss: 0.0056 - accuracy: 0.9980 - val_loss: 0.1194 - val_accuracy: 0.9892\n",
            "Epoch 92/100\n",
            "140/140 [==============================] - 1s 8ms/step - loss: 0.0055 - accuracy: 0.9980 - val_loss: 0.1127 - val_accuracy: 0.9901\n",
            "Epoch 93/100\n",
            "140/140 [==============================] - 1s 8ms/step - loss: 0.0055 - accuracy: 0.9982 - val_loss: 0.1343 - val_accuracy: 0.9892\n",
            "Epoch 94/100\n",
            "140/140 [==============================] - 1s 8ms/step - loss: 0.0054 - accuracy: 0.9982 - val_loss: 0.1343 - val_accuracy: 0.9892\n",
            "Epoch 95/100\n",
            "140/140 [==============================] - 1s 8ms/step - loss: 0.0052 - accuracy: 0.9982 - val_loss: 0.1344 - val_accuracy: 0.9892\n",
            "Epoch 96/100\n",
            "140/140 [==============================] - 1s 8ms/step - loss: 0.0051 - accuracy: 0.9982 - val_loss: 0.1342 - val_accuracy: 0.9892\n",
            "Epoch 97/100\n",
            "140/140 [==============================] - 2s 12ms/step - loss: 0.0049 - accuracy: 0.9982 - val_loss: 0.1345 - val_accuracy: 0.9892\n",
            "Epoch 98/100\n",
            "140/140 [==============================] - 2s 12ms/step - loss: 0.0048 - accuracy: 0.9982 - val_loss: 0.1346 - val_accuracy: 0.9892\n",
            "Epoch 99/100\n",
            "140/140 [==============================] - 1s 8ms/step - loss: 0.0047 - accuracy: 0.9982 - val_loss: 0.1339 - val_accuracy: 0.9892\n",
            "Epoch 100/100\n",
            "140/140 [==============================] - 1s 8ms/step - loss: 0.0047 - accuracy: 0.9982 - val_loss: 0.1343 - val_accuracy: 0.9892\n"
          ]
        }
      ]
    },
    {
      "cell_type": "code",
      "source": [
        "# Plot the training loss and accuracy\n",
        "def plot_history(history):\n",
        "    acc = history.history['accuracy']\n",
        "    loss = history.history['loss']\n",
        "    epochs = range(1, len(acc) + 1)\n",
        "\n",
        "    # Plotting the accuracy\n",
        "    plt.figure(figsize=(12, 4))\n",
        "    plt.subplot(1, 2, 1)\n",
        "    plt.plot(epochs, acc, 'b', label='Training accuracy')\n",
        "    plt.title('Training accuracy')\n",
        "    plt.xlabel('Epochs')\n",
        "    plt.ylabel('Accuracy')\n",
        "    plt.legend()\n",
        "\n",
        "    # Plotting the loss\n",
        "    plt.subplot(1, 2, 2)\n",
        "    plt.plot(epochs, loss, 'b', label='Training loss')\n",
        "    plt.title('Training loss')\n",
        "    plt.xlabel('Epochs')\n",
        "    plt.ylabel('Loss')\n",
        "    plt.legend()\n",
        "\n",
        "    plt.show()\n",
        "\n",
        "# Call the plot function\n",
        "plot_history(history_model)\n"
      ],
      "metadata": {
        "colab": {
          "base_uri": "https://localhost:8080/",
          "height": 410
        },
        "id": "mmy3MzROv8d_",
        "outputId": "6c61c3fc-14ac-4bb5-cdf9-2ec6e67cde74"
      },
      "execution_count": 16,
      "outputs": [
        {
          "output_type": "display_data",
          "data": {
            "text/plain": [
              "<Figure size 1200x400 with 2 Axes>"
            ],
            "image/png": "[encoded data removed]"
          },
          "metadata": {}
        }
      ]
    },
    {
      "cell_type": "code",
      "source": [
        "# confusion matrix\n",
        "y_pred = model.predict(X_test)\n",
        "y_pred = (y_pred > 0.5)\n",
        "cm = confusion_matrix(y_test, y_pred)\n",
        "sns.heatmap(cm, annot=True, fmt='d')"
      ],
      "metadata": {
        "colab": {
          "base_uri": "https://localhost:8080/",
          "height": 465
        },
        "id": "YWG5ihjW0VMj",
        "outputId": "71a0aa9f-84b7-482e-804f-25f449380607"
      },
      "execution_count": 17,
      "outputs": [
        {
          "output_type": "stream",
          "name": "stdout",
          "text": [
            "35/35 [==============================] - 0s 2ms/step\n"
          ]
        },
        {
          "output_type": "execute_result",
          "data": {
            "text/plain": [
              "<Axes: >"
            ]
          },
          "metadata": {},
          "execution_count": 17
        },
        {
          "output_type": "display_data",
          "data": {
            "text/plain": [
              "<Figure size 640x480 with 2 Axes>"
            ],
            "image/png": "[encoded data removed]"
          },
          "metadata": {}
        }
      ]
    },
    {
      "cell_type": "code",
      "source": [],
      "metadata": {
        "id": "SO2sBDK10kXb"
      },
      "execution_count": 17,
      "outputs": []
    }
  ]
}